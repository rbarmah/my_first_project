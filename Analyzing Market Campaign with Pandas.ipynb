{
 "cells": [
  {
   "cell_type": "markdown",
   "id": "10c2973b",
   "metadata": {},
   "source": [
    "# Pandas\n",
    "## Introduction to pandas for marketing"
   ]
  },
  {
   "cell_type": "code",
   "execution_count": 1,
   "id": "606e6668",
   "metadata": {},
   "outputs": [],
   "source": [
    "import pandas as pd\n",
    "import numpy as np"
   ]
  },
  {
   "cell_type": "code",
   "execution_count": 2,
   "id": "6848fb1f",
   "metadata": {
    "scrolled": true
   },
   "outputs": [],
   "source": [
    "#importing data\n",
    "marketing=pd.read_csv('marketing.csv')"
   ]
  },
  {
   "cell_type": "code",
   "execution_count": 3,
   "id": "6cbb7d9a",
   "metadata": {},
   "outputs": [
    {
     "data": {
      "text/html": [
       "<div>\n",
       "<style scoped>\n",
       "    .dataframe tbody tr th:only-of-type {\n",
       "        vertical-align: middle;\n",
       "    }\n",
       "\n",
       "    .dataframe tbody tr th {\n",
       "        vertical-align: top;\n",
       "    }\n",
       "\n",
       "    .dataframe thead th {\n",
       "        text-align: right;\n",
       "    }\n",
       "</style>\n",
       "<table border=\"1\" class=\"dataframe\">\n",
       "  <thead>\n",
       "    <tr style=\"text-align: right;\">\n",
       "      <th></th>\n",
       "      <th>user_id</th>\n",
       "      <th>date_served</th>\n",
       "      <th>marketing_channel</th>\n",
       "      <th>variant</th>\n",
       "      <th>converted</th>\n",
       "      <th>language_displayed</th>\n",
       "      <th>language_preferred</th>\n",
       "      <th>age_group</th>\n",
       "      <th>date_subscribed</th>\n",
       "      <th>date_canceled</th>\n",
       "      <th>subscribing_channel</th>\n",
       "      <th>is_retained</th>\n",
       "    </tr>\n",
       "  </thead>\n",
       "  <tbody>\n",
       "    <tr>\n",
       "      <th>0</th>\n",
       "      <td>a100000029</td>\n",
       "      <td>1/1/18</td>\n",
       "      <td>House Ads</td>\n",
       "      <td>personalization</td>\n",
       "      <td>True</td>\n",
       "      <td>English</td>\n",
       "      <td>English</td>\n",
       "      <td>0-18 years</td>\n",
       "      <td>1/1/18</td>\n",
       "      <td>NaN</td>\n",
       "      <td>House Ads</td>\n",
       "      <td>True</td>\n",
       "    </tr>\n",
       "    <tr>\n",
       "      <th>1</th>\n",
       "      <td>a100000030</td>\n",
       "      <td>1/1/18</td>\n",
       "      <td>House Ads</td>\n",
       "      <td>personalization</td>\n",
       "      <td>True</td>\n",
       "      <td>English</td>\n",
       "      <td>English</td>\n",
       "      <td>19-24 years</td>\n",
       "      <td>1/1/18</td>\n",
       "      <td>NaN</td>\n",
       "      <td>House Ads</td>\n",
       "      <td>True</td>\n",
       "    </tr>\n",
       "    <tr>\n",
       "      <th>2</th>\n",
       "      <td>a100000031</td>\n",
       "      <td>1/1/18</td>\n",
       "      <td>House Ads</td>\n",
       "      <td>personalization</td>\n",
       "      <td>True</td>\n",
       "      <td>English</td>\n",
       "      <td>English</td>\n",
       "      <td>24-30 years</td>\n",
       "      <td>1/1/18</td>\n",
       "      <td>NaN</td>\n",
       "      <td>House Ads</td>\n",
       "      <td>True</td>\n",
       "    </tr>\n",
       "    <tr>\n",
       "      <th>3</th>\n",
       "      <td>a100000032</td>\n",
       "      <td>1/1/18</td>\n",
       "      <td>House Ads</td>\n",
       "      <td>personalization</td>\n",
       "      <td>True</td>\n",
       "      <td>English</td>\n",
       "      <td>English</td>\n",
       "      <td>30-36 years</td>\n",
       "      <td>1/1/18</td>\n",
       "      <td>NaN</td>\n",
       "      <td>House Ads</td>\n",
       "      <td>True</td>\n",
       "    </tr>\n",
       "    <tr>\n",
       "      <th>4</th>\n",
       "      <td>a100000033</td>\n",
       "      <td>1/1/18</td>\n",
       "      <td>House Ads</td>\n",
       "      <td>personalization</td>\n",
       "      <td>True</td>\n",
       "      <td>English</td>\n",
       "      <td>English</td>\n",
       "      <td>36-45 years</td>\n",
       "      <td>1/1/18</td>\n",
       "      <td>NaN</td>\n",
       "      <td>House Ads</td>\n",
       "      <td>True</td>\n",
       "    </tr>\n",
       "    <tr>\n",
       "      <th>5</th>\n",
       "      <td>a100000034</td>\n",
       "      <td>1/1/18</td>\n",
       "      <td>House Ads</td>\n",
       "      <td>personalization</td>\n",
       "      <td>True</td>\n",
       "      <td>German</td>\n",
       "      <td>German</td>\n",
       "      <td>45-55 years</td>\n",
       "      <td>1/1/18</td>\n",
       "      <td>NaN</td>\n",
       "      <td>House Ads</td>\n",
       "      <td>True</td>\n",
       "    </tr>\n",
       "    <tr>\n",
       "      <th>6</th>\n",
       "      <td>a100000035</td>\n",
       "      <td>1/1/18</td>\n",
       "      <td>House Ads</td>\n",
       "      <td>personalization</td>\n",
       "      <td>True</td>\n",
       "      <td>English</td>\n",
       "      <td>English</td>\n",
       "      <td>55+ years</td>\n",
       "      <td>1/1/18</td>\n",
       "      <td>NaN</td>\n",
       "      <td>House Ads</td>\n",
       "      <td>True</td>\n",
       "    </tr>\n",
       "    <tr>\n",
       "      <th>7</th>\n",
       "      <td>a100000036</td>\n",
       "      <td>1/1/18</td>\n",
       "      <td>House Ads</td>\n",
       "      <td>personalization</td>\n",
       "      <td>True</td>\n",
       "      <td>English</td>\n",
       "      <td>English</td>\n",
       "      <td>0-18 years</td>\n",
       "      <td>1/1/18</td>\n",
       "      <td>NaN</td>\n",
       "      <td>House Ads</td>\n",
       "      <td>True</td>\n",
       "    </tr>\n",
       "    <tr>\n",
       "      <th>8</th>\n",
       "      <td>a100000037</td>\n",
       "      <td>1/1/18</td>\n",
       "      <td>House Ads</td>\n",
       "      <td>personalization</td>\n",
       "      <td>True</td>\n",
       "      <td>English</td>\n",
       "      <td>English</td>\n",
       "      <td>19-24 years</td>\n",
       "      <td>1/1/18</td>\n",
       "      <td>NaN</td>\n",
       "      <td>House Ads</td>\n",
       "      <td>True</td>\n",
       "    </tr>\n",
       "    <tr>\n",
       "      <th>9</th>\n",
       "      <td>a100000038</td>\n",
       "      <td>1/1/18</td>\n",
       "      <td>House Ads</td>\n",
       "      <td>personalization</td>\n",
       "      <td>True</td>\n",
       "      <td>English</td>\n",
       "      <td>English</td>\n",
       "      <td>24-30 years</td>\n",
       "      <td>1/1/18</td>\n",
       "      <td>NaN</td>\n",
       "      <td>House Ads</td>\n",
       "      <td>True</td>\n",
       "    </tr>\n",
       "    <tr>\n",
       "      <th>10</th>\n",
       "      <td>a100000039</td>\n",
       "      <td>1/1/18</td>\n",
       "      <td>House Ads</td>\n",
       "      <td>personalization</td>\n",
       "      <td>True</td>\n",
       "      <td>English</td>\n",
       "      <td>English</td>\n",
       "      <td>0-18 years</td>\n",
       "      <td>1/1/18</td>\n",
       "      <td>NaN</td>\n",
       "      <td>House Ads</td>\n",
       "      <td>True</td>\n",
       "    </tr>\n",
       "    <tr>\n",
       "      <th>11</th>\n",
       "      <td>a100000040</td>\n",
       "      <td>1/1/18</td>\n",
       "      <td>House Ads</td>\n",
       "      <td>personalization</td>\n",
       "      <td>True</td>\n",
       "      <td>English</td>\n",
       "      <td>English</td>\n",
       "      <td>19-24 years</td>\n",
       "      <td>1/1/18</td>\n",
       "      <td>1/18/18</td>\n",
       "      <td>House Ads</td>\n",
       "      <td>False</td>\n",
       "    </tr>\n",
       "    <tr>\n",
       "      <th>12</th>\n",
       "      <td>a100000041</td>\n",
       "      <td>1/1/18</td>\n",
       "      <td>House Ads</td>\n",
       "      <td>personalization</td>\n",
       "      <td>True</td>\n",
       "      <td>Arabic</td>\n",
       "      <td>Arabic</td>\n",
       "      <td>24-30 years</td>\n",
       "      <td>1/1/18</td>\n",
       "      <td>2/22/18</td>\n",
       "      <td>House Ads</td>\n",
       "      <td>False</td>\n",
       "    </tr>\n",
       "    <tr>\n",
       "      <th>13</th>\n",
       "      <td>a100000042</td>\n",
       "      <td>1/1/18</td>\n",
       "      <td>House Ads</td>\n",
       "      <td>personalization</td>\n",
       "      <td>True</td>\n",
       "      <td>English</td>\n",
       "      <td>English</td>\n",
       "      <td>0-18 years</td>\n",
       "      <td>1/1/18</td>\n",
       "      <td>3/9/18</td>\n",
       "      <td>House Ads</td>\n",
       "      <td>False</td>\n",
       "    </tr>\n",
       "    <tr>\n",
       "      <th>14</th>\n",
       "      <td>a100000043</td>\n",
       "      <td>1/1/18</td>\n",
       "      <td>House Ads</td>\n",
       "      <td>personalization</td>\n",
       "      <td>True</td>\n",
       "      <td>English</td>\n",
       "      <td>English</td>\n",
       "      <td>19-24 years</td>\n",
       "      <td>1/1/18</td>\n",
       "      <td>2/18/18</td>\n",
       "      <td>House Ads</td>\n",
       "      <td>False</td>\n",
       "    </tr>\n",
       "    <tr>\n",
       "      <th>15</th>\n",
       "      <td>a100000044</td>\n",
       "      <td>1/1/18</td>\n",
       "      <td>House Ads</td>\n",
       "      <td>personalization</td>\n",
       "      <td>True</td>\n",
       "      <td>Arabic</td>\n",
       "      <td>Arabic</td>\n",
       "      <td>24-30 years</td>\n",
       "      <td>1/1/18</td>\n",
       "      <td>3/3/18</td>\n",
       "      <td>House Ads</td>\n",
       "      <td>False</td>\n",
       "    </tr>\n",
       "    <tr>\n",
       "      <th>16</th>\n",
       "      <td>a100000045</td>\n",
       "      <td>1/2/18</td>\n",
       "      <td>House Ads</td>\n",
       "      <td>personalization</td>\n",
       "      <td>True</td>\n",
       "      <td>English</td>\n",
       "      <td>English</td>\n",
       "      <td>0-18 years</td>\n",
       "      <td>1/2/18</td>\n",
       "      <td>2/4/18</td>\n",
       "      <td>House Ads</td>\n",
       "      <td>False</td>\n",
       "    </tr>\n",
       "    <tr>\n",
       "      <th>17</th>\n",
       "      <td>a100000046</td>\n",
       "      <td>1/2/18</td>\n",
       "      <td>House Ads</td>\n",
       "      <td>personalization</td>\n",
       "      <td>True</td>\n",
       "      <td>English</td>\n",
       "      <td>English</td>\n",
       "      <td>19-24 years</td>\n",
       "      <td>1/2/18</td>\n",
       "      <td>1/9/18</td>\n",
       "      <td>House Ads</td>\n",
       "      <td>False</td>\n",
       "    </tr>\n",
       "    <tr>\n",
       "      <th>18</th>\n",
       "      <td>a100000047</td>\n",
       "      <td>1/2/18</td>\n",
       "      <td>House Ads</td>\n",
       "      <td>personalization</td>\n",
       "      <td>True</td>\n",
       "      <td>English</td>\n",
       "      <td>English</td>\n",
       "      <td>24-30 years</td>\n",
       "      <td>1/2/18</td>\n",
       "      <td>2/4/18</td>\n",
       "      <td>House Ads</td>\n",
       "      <td>False</td>\n",
       "    </tr>\n",
       "    <tr>\n",
       "      <th>19</th>\n",
       "      <td>a100000048</td>\n",
       "      <td>1/2/18</td>\n",
       "      <td>House Ads</td>\n",
       "      <td>personalization</td>\n",
       "      <td>True</td>\n",
       "      <td>German</td>\n",
       "      <td>German</td>\n",
       "      <td>0-18 years</td>\n",
       "      <td>1/2/18</td>\n",
       "      <td>1/21/18</td>\n",
       "      <td>House Ads</td>\n",
       "      <td>False</td>\n",
       "    </tr>\n",
       "  </tbody>\n",
       "</table>\n",
       "</div>"
      ],
      "text/plain": [
       "       user_id date_served marketing_channel          variant converted  \\\n",
       "0   a100000029      1/1/18         House Ads  personalization      True   \n",
       "1   a100000030      1/1/18         House Ads  personalization      True   \n",
       "2   a100000031      1/1/18         House Ads  personalization      True   \n",
       "3   a100000032      1/1/18         House Ads  personalization      True   \n",
       "4   a100000033      1/1/18         House Ads  personalization      True   \n",
       "5   a100000034      1/1/18         House Ads  personalization      True   \n",
       "6   a100000035      1/1/18         House Ads  personalization      True   \n",
       "7   a100000036      1/1/18         House Ads  personalization      True   \n",
       "8   a100000037      1/1/18         House Ads  personalization      True   \n",
       "9   a100000038      1/1/18         House Ads  personalization      True   \n",
       "10  a100000039      1/1/18         House Ads  personalization      True   \n",
       "11  a100000040      1/1/18         House Ads  personalization      True   \n",
       "12  a100000041      1/1/18         House Ads  personalization      True   \n",
       "13  a100000042      1/1/18         House Ads  personalization      True   \n",
       "14  a100000043      1/1/18         House Ads  personalization      True   \n",
       "15  a100000044      1/1/18         House Ads  personalization      True   \n",
       "16  a100000045      1/2/18         House Ads  personalization      True   \n",
       "17  a100000046      1/2/18         House Ads  personalization      True   \n",
       "18  a100000047      1/2/18         House Ads  personalization      True   \n",
       "19  a100000048      1/2/18         House Ads  personalization      True   \n",
       "\n",
       "   language_displayed language_preferred    age_group date_subscribed  \\\n",
       "0             English            English   0-18 years          1/1/18   \n",
       "1             English            English  19-24 years          1/1/18   \n",
       "2             English            English  24-30 years          1/1/18   \n",
       "3             English            English  30-36 years          1/1/18   \n",
       "4             English            English  36-45 years          1/1/18   \n",
       "5              German             German  45-55 years          1/1/18   \n",
       "6             English            English    55+ years          1/1/18   \n",
       "7             English            English   0-18 years          1/1/18   \n",
       "8             English            English  19-24 years          1/1/18   \n",
       "9             English            English  24-30 years          1/1/18   \n",
       "10            English            English   0-18 years          1/1/18   \n",
       "11            English            English  19-24 years          1/1/18   \n",
       "12             Arabic             Arabic  24-30 years          1/1/18   \n",
       "13            English            English   0-18 years          1/1/18   \n",
       "14            English            English  19-24 years          1/1/18   \n",
       "15             Arabic             Arabic  24-30 years          1/1/18   \n",
       "16            English            English   0-18 years          1/2/18   \n",
       "17            English            English  19-24 years          1/2/18   \n",
       "18            English            English  24-30 years          1/2/18   \n",
       "19             German             German   0-18 years          1/2/18   \n",
       "\n",
       "   date_canceled subscribing_channel is_retained  \n",
       "0            NaN           House Ads        True  \n",
       "1            NaN           House Ads        True  \n",
       "2            NaN           House Ads        True  \n",
       "3            NaN           House Ads        True  \n",
       "4            NaN           House Ads        True  \n",
       "5            NaN           House Ads        True  \n",
       "6            NaN           House Ads        True  \n",
       "7            NaN           House Ads        True  \n",
       "8            NaN           House Ads        True  \n",
       "9            NaN           House Ads        True  \n",
       "10           NaN           House Ads        True  \n",
       "11       1/18/18           House Ads       False  \n",
       "12       2/22/18           House Ads       False  \n",
       "13        3/9/18           House Ads       False  \n",
       "14       2/18/18           House Ads       False  \n",
       "15        3/3/18           House Ads       False  \n",
       "16        2/4/18           House Ads       False  \n",
       "17        1/9/18           House Ads       False  \n",
       "18        2/4/18           House Ads       False  \n",
       "19       1/21/18           House Ads       False  "
      ]
     },
     "execution_count": 3,
     "metadata": {},
     "output_type": "execute_result"
    }
   ],
   "source": [
    "#inspecting data\n",
    "marketing.head(20)"
   ]
  },
  {
   "cell_type": "markdown",
   "id": "2237c7f2",
   "metadata": {},
   "source": [
    "### Summary statistics\n",
    "Use the describe() method to print the statistics of all columns in your dataset. You can inspect the output to find some obvious errors. For example, if you see negative values in a date column, this might indicate an error. In addition, pay careful attention to the minimum and maximum values. If the maximum is much larger than the median, it might be an outlier and merit further investigation."
   ]
  },
  {
   "cell_type": "code",
   "execution_count": 4,
   "id": "f9f32535",
   "metadata": {
    "scrolled": true
   },
   "outputs": [
    {
     "data": {
      "text/html": [
       "<div>\n",
       "<style scoped>\n",
       "    .dataframe tbody tr th:only-of-type {\n",
       "        vertical-align: middle;\n",
       "    }\n",
       "\n",
       "    .dataframe tbody tr th {\n",
       "        vertical-align: top;\n",
       "    }\n",
       "\n",
       "    .dataframe thead th {\n",
       "        text-align: right;\n",
       "    }\n",
       "</style>\n",
       "<table border=\"1\" class=\"dataframe\">\n",
       "  <thead>\n",
       "    <tr style=\"text-align: right;\">\n",
       "      <th></th>\n",
       "      <th>user_id</th>\n",
       "      <th>date_served</th>\n",
       "      <th>marketing_channel</th>\n",
       "      <th>variant</th>\n",
       "      <th>converted</th>\n",
       "      <th>language_displayed</th>\n",
       "      <th>language_preferred</th>\n",
       "      <th>age_group</th>\n",
       "      <th>date_subscribed</th>\n",
       "      <th>date_canceled</th>\n",
       "      <th>subscribing_channel</th>\n",
       "      <th>is_retained</th>\n",
       "    </tr>\n",
       "  </thead>\n",
       "  <tbody>\n",
       "    <tr>\n",
       "      <th>count</th>\n",
       "      <td>10037</td>\n",
       "      <td>10021</td>\n",
       "      <td>10022</td>\n",
       "      <td>10037</td>\n",
       "      <td>10022</td>\n",
       "      <td>10037</td>\n",
       "      <td>10037</td>\n",
       "      <td>10037</td>\n",
       "      <td>1856</td>\n",
       "      <td>577</td>\n",
       "      <td>1856</td>\n",
       "      <td>1856</td>\n",
       "    </tr>\n",
       "    <tr>\n",
       "      <th>unique</th>\n",
       "      <td>7309</td>\n",
       "      <td>31</td>\n",
       "      <td>5</td>\n",
       "      <td>2</td>\n",
       "      <td>2</td>\n",
       "      <td>4</td>\n",
       "      <td>4</td>\n",
       "      <td>7</td>\n",
       "      <td>31</td>\n",
       "      <td>115</td>\n",
       "      <td>5</td>\n",
       "      <td>2</td>\n",
       "    </tr>\n",
       "    <tr>\n",
       "      <th>top</th>\n",
       "      <td>a100000882</td>\n",
       "      <td>1/15/18</td>\n",
       "      <td>House Ads</td>\n",
       "      <td>control</td>\n",
       "      <td>False</td>\n",
       "      <td>English</td>\n",
       "      <td>English</td>\n",
       "      <td>19-24 years</td>\n",
       "      <td>1/16/18</td>\n",
       "      <td>4/2/18</td>\n",
       "      <td>Instagram</td>\n",
       "      <td>True</td>\n",
       "    </tr>\n",
       "    <tr>\n",
       "      <th>freq</th>\n",
       "      <td>12</td>\n",
       "      <td>789</td>\n",
       "      <td>4733</td>\n",
       "      <td>5091</td>\n",
       "      <td>8946</td>\n",
       "      <td>9793</td>\n",
       "      <td>9275</td>\n",
       "      <td>1682</td>\n",
       "      <td>163</td>\n",
       "      <td>15</td>\n",
       "      <td>600</td>\n",
       "      <td>1279</td>\n",
       "    </tr>\n",
       "  </tbody>\n",
       "</table>\n",
       "</div>"
      ],
      "text/plain": [
       "           user_id date_served marketing_channel  variant converted  \\\n",
       "count        10037       10021             10022    10037     10022   \n",
       "unique        7309          31                 5        2         2   \n",
       "top     a100000882     1/15/18         House Ads  control     False   \n",
       "freq            12         789              4733     5091      8946   \n",
       "\n",
       "       language_displayed language_preferred    age_group date_subscribed  \\\n",
       "count               10037              10037        10037            1856   \n",
       "unique                  4                  4            7              31   \n",
       "top               English            English  19-24 years         1/16/18   \n",
       "freq                 9793               9275         1682             163   \n",
       "\n",
       "       date_canceled subscribing_channel is_retained  \n",
       "count            577                1856        1856  \n",
       "unique           115                   5           2  \n",
       "top           4/2/18           Instagram        True  \n",
       "freq              15                 600        1279  "
      ]
     },
     "execution_count": 4,
     "metadata": {},
     "output_type": "execute_result"
    }
   ],
   "source": [
    "marketing.describe()"
   ]
  },
  {
   "cell_type": "markdown",
   "id": "fcbcef18",
   "metadata": {},
   "source": [
    "### Missing values & data types\n",
    "Finally, you can identify the data types and the number of non-missing values in your DataFrame using the info() method. The result includes all columns and their data types."
   ]
  },
  {
   "cell_type": "code",
   "execution_count": 5,
   "id": "f6715dc3",
   "metadata": {},
   "outputs": [
    {
     "name": "stdout",
     "output_type": "stream",
     "text": [
      "<class 'pandas.core.frame.DataFrame'>\n",
      "RangeIndex: 10037 entries, 0 to 10036\n",
      "Data columns (total 12 columns):\n",
      " #   Column               Non-Null Count  Dtype \n",
      "---  ------               --------------  ----- \n",
      " 0   user_id              10037 non-null  object\n",
      " 1   date_served          10021 non-null  object\n",
      " 2   marketing_channel    10022 non-null  object\n",
      " 3   variant              10037 non-null  object\n",
      " 4   converted            10022 non-null  object\n",
      " 5   language_displayed   10037 non-null  object\n",
      " 6   language_preferred   10037 non-null  object\n",
      " 7   age_group            10037 non-null  object\n",
      " 8   date_subscribed      1856 non-null   object\n",
      " 9   date_canceled        577 non-null    object\n",
      " 10  subscribing_channel  1856 non-null   object\n",
      " 11  is_retained          1856 non-null   object\n",
      "dtypes: object(12)\n",
      "memory usage: 941.1+ KB\n"
     ]
    }
   ],
   "source": [
    "marketing.info()"
   ]
  },
  {
   "cell_type": "markdown",
   "id": "c890ca66",
   "metadata": {},
   "source": [
    "## Data types and data merging\n",
    "In this lesson, we will talk about various techniques to manipulate data using Pandas.\n",
    "### Common data types\n",
    "Each column in a pandas DataFrame has a specific data type. Some of the common data types are strings (which are represented as objects), numbers(floats, integers), boolean values (which are True/False) and dates.\n",
    "\n",
    "### Data type of a column\n",
    "You can use the dtype attribute if you are interested in knowing the data type of a single column."
   ]
  },
  {
   "cell_type": "code",
   "execution_count": 6,
   "id": "6df28331",
   "metadata": {},
   "outputs": [
    {
     "name": "stdout",
     "output_type": "stream",
     "text": [
      "object\n"
     ]
    }
   ],
   "source": [
    "#Print a data type od a single column\n",
    "print(marketing['converted'].dtype)"
   ]
  },
  {
   "cell_type": "code",
   "execution_count": 7,
   "id": "dccc8d05",
   "metadata": {},
   "outputs": [],
   "source": [
    "#Changing the data type of a column\n",
    "marketing['converted']=marketing['converted'].astype('bool')"
   ]
  },
  {
   "cell_type": "code",
   "execution_count": 8,
   "id": "fd2dd345",
   "metadata": {},
   "outputs": [
    {
     "name": "stdout",
     "output_type": "stream",
     "text": [
      "bool\n"
     ]
    }
   ],
   "source": [
    "print(marketing['converted'].dtype)"
   ]
  },
  {
   "cell_type": "markdown",
   "id": "b7badf3a",
   "metadata": {},
   "source": [
    "###  Creating new boolean columns\n",
    "The marketing_channel column captures the channel a user saw a marketing asset on. Say you want to have a column that identifies if a particular marketing asset was a house ad or not. You can use numpy's where() function to create a new boolean column to establish this. The first argument is an expression that checks whether the value in the marketing_channel column is 'House Ads', the second argument is the value you want to assign if the expression is true, and the third argument is the value you want to assign if the expression is false."
   ]
  },
  {
   "cell_type": "code",
   "execution_count": 9,
   "id": "0e54a66c",
   "metadata": {},
   "outputs": [],
   "source": [
    "marketing['is_house_ads']=np.where(marketing['marketing_channel']=='House Ads',\n",
    "                                   True,False)"
   ]
  },
  {
   "cell_type": "code",
   "execution_count": 10,
   "id": "1b3ad6e2",
   "metadata": {},
   "outputs": [
    {
     "data": {
      "text/plain": [
       "0    True\n",
       "1    True\n",
       "2    True\n",
       "3    True\n",
       "4    True\n",
       "Name: is_house_ads, dtype: bool"
      ]
     },
     "execution_count": 10,
     "metadata": {},
     "output_type": "execute_result"
    }
   ],
   "source": [
    "marketing['is_house_ads'].head()"
   ]
  },
  {
   "cell_type": "markdown",
   "id": "17006b7c",
   "metadata": {},
   "source": [
    "###  Mapping values to existing columns\n",
    "Due to the way pandas stores data, in a large dataset, it can be computationally inefficient to store columns of strings. In such cases, it can speed things up to instead store these values as numbers. To create a column with channel codes, build a dictionary that maps the channels to numerical codes. Then, use the map() method on the channel column along with this dictionary, as shown here."
   ]
  },
  {
   "cell_type": "code",
   "execution_count": 11,
   "id": "854a3e0c",
   "metadata": {},
   "outputs": [
    {
     "data": {
      "text/plain": [
       "0    1.0\n",
       "1    1.0\n",
       "2    1.0\n",
       "3    1.0\n",
       "4    1.0\n",
       "5    1.0\n",
       "6    1.0\n",
       "7    1.0\n",
       "8    1.0\n",
       "9    1.0\n",
       "Name: channel_code, dtype: float64"
      ]
     },
     "execution_count": 11,
     "metadata": {},
     "output_type": "execute_result"
    }
   ],
   "source": [
    "channel_dict={'House Ads':1,'Instagram':2,'Facebook':3,'Email':4,'Push':5}\n",
    "marketing['channel_code']=marketing['marketing_channel'].map(channel_dict)\n",
    "marketing['channel_code'].head(10)"
   ]
  },
  {
   "cell_type": "code",
   "execution_count": 12,
   "id": "b00e3d6c",
   "metadata": {},
   "outputs": [
    {
     "data": {
      "text/plain": [
       "array(['House Ads', 'Push', 'Facebook', 'Instagram', 'Email', nan],\n",
       "      dtype=object)"
      ]
     },
     "execution_count": 12,
     "metadata": {},
     "output_type": "execute_result"
    }
   ],
   "source": [
    "marketing['marketing_channel'].unique()"
   ]
  },
  {
   "cell_type": "markdown",
   "id": "8782e6aa",
   "metadata": {},
   "source": [
    "### Date columns\n",
    "Often, you will have date columns that are improperly read as objects by pandas. However, as you will see in the following lessons, having date columns properly imported as the datetime datatype has several advantages. You have two options to ensure that certain columns are treated as dates. First, when importing the dataset using the read_csv() function, you can pass a list of column names to the parse_dates argument to ensure that these columns are correctly interpreted as date columns.\n",
    "\n",
    "Another option is to use the pandas' datetime() function to convert a specific column."
   ]
  },
  {
   "cell_type": "code",
   "execution_count": 13,
   "id": "a323f1cd",
   "metadata": {},
   "outputs": [],
   "source": [
    "# Read date columns using parse_dates\n",
    "#marketing=pd.read_csv('marketing.csv',\n",
    "#                     parse_dates=['date_served',\n",
    "#                                 'date_subscribed',\n",
    "#                                 'date_canceled'])\n",
    "\n",
    "# or\n",
    "#Convert already existing column to datetime\n",
    "marketing['date_served']=pd.to_datetime(marketing['date_served'])"
   ]
  },
  {
   "cell_type": "code",
   "execution_count": 14,
   "id": "5cf5f289",
   "metadata": {},
   "outputs": [],
   "source": [
    "marketing['date_subscribed']=pd.to_datetime(marketing['date_subscribed'])\n",
    "marketing['date_canceled']=pd.to_datetime(marketing['date_canceled'])"
   ]
  },
  {
   "cell_type": "markdown",
   "id": "eb4e2069",
   "metadata": {},
   "source": [
    "Once the dates in the column are properly imported, you can use various date attributes to extract relevant information. For example, to obtain the day of the week, you can use the dayofweek attribute along with the dt accessor on the date column. This will result in a numerical value where 0 maps to Monday, 1 to Tuesday, and so on."
   ]
  },
  {
   "cell_type": "code",
   "execution_count": 15,
   "id": "e7610fec",
   "metadata": {},
   "outputs": [],
   "source": [
    "marketing['day_served']=marketing['date_served'].dt.dayofweek"
   ]
  },
  {
   "cell_type": "code",
   "execution_count": 16,
   "id": "3f63a999",
   "metadata": {},
   "outputs": [
    {
     "name": "stdout",
     "output_type": "stream",
     "text": [
      "bool\n"
     ]
    }
   ],
   "source": [
    "# Convert is_retained to a boolean\n",
    "marketing['is_retained'] = marketing['is_retained'].astype('bool')\n",
    "\n",
    "# Check the data type of is_retained, again\n",
    "print(marketing['is_retained'].dtype)"
   ]
  },
  {
   "cell_type": "code",
   "execution_count": 17,
   "id": "413cdc83",
   "metadata": {},
   "outputs": [],
   "source": [
    "# Add the new column is_correct_lang, which is 'Yes' if the user was shown the ad in their preferred language, 'No' otherwise.\n",
    "marketing['is_correct_lang'] = np.where(\n",
    "                            marketing['language_displayed']==marketing['language_preferred'],\n",
    "                            'Yes', 'No')"
   ]
  },
  {
   "cell_type": "markdown",
   "id": "0c3ba8bd",
   "metadata": {},
   "source": [
    "## Initial Exploratory Analysis\n",
    "### How many users see marketing assets?\n",
    "To begin, let's get a sense of how many unique users see our marketing assets each day. We can use the groupby() method on the marketing DataFrame. To group by date, we pass 'date_served' as the argument to groupby(). Next, we select the user_id column outside of the groupby() and use nunique() method to count the number of unique users each day. Looks like about 300 users each day see our ads."
   ]
  },
  {
   "cell_type": "code",
   "execution_count": 18,
   "id": "924fd5f8",
   "metadata": {},
   "outputs": [
    {
     "data": {
      "text/plain": [
       "date_served\n",
       "2018-01-01    362\n",
       "2018-01-02    374\n",
       "2018-01-03    348\n",
       "2018-01-04    323\n",
       "2018-01-05    319\n",
       "2018-01-06    308\n",
       "2018-01-07    275\n",
       "2018-01-08    312\n",
       "2018-01-09    312\n",
       "2018-01-10    337\n",
       "2018-01-11    310\n",
       "2018-01-12    301\n",
       "2018-01-13    306\n",
       "2018-01-14    305\n",
       "2018-01-15    767\n",
       "2018-01-16    388\n",
       "2018-01-17    369\n",
       "2018-01-18    318\n",
       "2018-01-19    305\n",
       "2018-01-20    311\n",
       "2018-01-21    229\n",
       "2018-01-22    178\n",
       "2018-01-23    172\n",
       "2018-01-24    190\n",
       "2018-01-25    184\n",
       "2018-01-26    222\n",
       "2018-01-27    320\n",
       "2018-01-28    320\n",
       "2018-01-29    319\n",
       "2018-01-30    317\n",
       "2018-01-31    340\n",
       "Name: user_id, dtype: int64"
      ]
     },
     "execution_count": 18,
     "metadata": {},
     "output_type": "execute_result"
    }
   ],
   "source": [
    "#Aggregate unique users that see ads by date\n",
    "daily_users=marketing.groupby(['date_served'])['user_id'].nunique()\n",
    "daily_users"
   ]
  },
  {
   "cell_type": "markdown",
   "id": "2ac57e5c",
   "metadata": {},
   "source": [
    " ### Visualizing results\n",
    "As you can see, it's not easy to interpret results when they're printed in a table. It's much easier to notice fluctuations in our metrics when we plot them. We first import matplotlib dot pyplot as plt. Then, we plot the series daily_users. It's good practice to always add title and labels to your plot in order to clearly convey what information the chart contains. You can add a title using plt dot title(), and add x and y labels using plt dot xlabel() and plt dot ylabel() functions, respectively. We also rotate the xticks, in this case, the date labels, by 45 degrees to increase legibility. Finally, don't forget to include a call to plt dot show() to display the plot."
   ]
  },
  {
   "cell_type": "code",
   "execution_count": 19,
   "id": "f1c639e5",
   "metadata": {},
   "outputs": [
    {
     "data": {
      "image/png": "[encoded data removed]",
      "text/plain": [
       "<Figure size 432x288 with 1 Axes>"
      ]
     },
     "metadata": {
      "needs_background": "light"
     },
     "output_type": "display_data"
    }
   ],
   "source": [
    "import matplotlib.pyplot as plt\n",
    "\n",
    "# Plot\n",
    "daily_users.plot()\n",
    "\n",
    "# Annotate\n",
    "plt.title('Daily number of users who see ads')\n",
    "plt.xlabel('Date')\n",
    "plt.ylabel('Number of users')\n",
    "plt.xticks(rotation=45)\n",
    "plt.show()"
   ]
  },
  {
   "attachments": {
    "image.png": {
     "image/png": "[encoded data removed]"
    }
   },
   "cell_type": "markdown",
   "id": "8b1cf046",
   "metadata": {},
   "source": [
    "# Exploratory Analysis  & Summary Statistics\n",
    "\n",
    "## Introduction to common marketing metrics\n",
    "\n",
    "### Was the campaign successful?\n",
    "As a data professional, you will often find yourself translating business questions into measurable outcomes. One of the most common questions you might be asked is, \"Was the campaign successful?\". At first, this might feel like an intimidating question. There are so many ways one could measure campaign success! That said, there are a few kinds of metrics you will find yourself using over and over again. For a marketing team, campaign success is typically measured by conversion rate. This is to say, of all the people who came into contact with your marketing campaign, how many bought the product? Depending on the business, this could mean that a person made a purchase or subscribed to your service. In addition, many subscription businesses care about retention. Once a user has signed up for a subscription, are they still a subscriber one, three or twelve months in? This metric can be particularly difficult to measure because it requires patience. We can't know 90-day retention rates until 90 days have passed since a user initially subscribed.\n",
    "\n",
    "\n",
    "### Conversion rate\n",
    "Conversion rate is the percentage of people that we market to who ultimately convert to our product. In this course, we will be focusing on a subscription service and will be talking about conversion in terms of subscriptions.\n",
    "![image.png](attachment:image.png)"
   ]
  },
  {
   "cell_type": "code",
   "execution_count": 25,
   "id": "cd5f169e",
   "metadata": {},
   "outputs": [],
   "source": [
    "suscribers=marketing[marketing['converted']==True]['user_id'].nunique()"
   ]
  },
  {
   "cell_type": "code",
   "execution_count": 22,
   "id": "8e4dc5d2",
   "metadata": {},
   "outputs": [],
   "source": [
    "total=marketing['user_id'].nunique()"
   ]
  },
  {
   "cell_type": "code",
   "execution_count": 26,
   "id": "f42dd225",
   "metadata": {},
   "outputs": [],
   "source": [
    "conv_rate=suscribers/total"
   ]
  },
  {
   "cell_type": "code",
   "execution_count": 27,
   "id": "a44747b2",
   "metadata": {},
   "outputs": [
    {
     "name": "stdout",
     "output_type": "stream",
     "text": [
      "14.09 %\n"
     ]
    }
   ],
   "source": [
    "print(round(conv_rate*100,2),'%')"
   ]
  },
  {
   "attachments": {
    "image.png": {
     "image/png": "[encoded data removed]"
    }
   },
   "cell_type": "markdown",
   "id": "5bc9dd28",
   "metadata": {},
   "source": [
    "![image.png](attachment:image.png)\n",
    "\n",
    "### Calculating retention rate\n",
    "\n",
    "To determine retention rate, we first calculate the total number of users who remain subscribers after one month. This information is available in the column \"is_retained\". We now slice the DataFrame to include only rows where the user was retained, that is, where is_retained equals True and count the unique user_ids. We can reuse our \"subscribers\" calculation from the conversion rate calculation, as the number of total users who originally subscribed remains the same. Finally, we divide the number of users who were retained by the number of users who subscribed to calculate the retention rate."
   ]
  },
  {
   "cell_type": "code",
   "execution_count": 31,
   "id": "b231cada",
   "metadata": {},
   "outputs": [],
   "source": [
    "retained=marketing[marketing['is_retained']==True]['user_id'].nunique()"
   ]
  },
  {
   "cell_type": "code",
   "execution_count": 32,
   "id": "86c3c9df",
   "metadata": {},
   "outputs": [
    {
     "name": "stdout",
     "output_type": "stream",
     "text": [
      "676.41 %\n"
     ]
    }
   ],
   "source": [
    "retention=retained/suscribers\n",
    "print(round(retention*100,2),'%')"
   ]
  },
  {
   "cell_type": "code",
   "execution_count": 33,
   "id": "22930c63",
   "metadata": {},
   "outputs": [
    {
     "data": {
      "text/plain": [
       "6967"
      ]
     },
     "execution_count": 33,
     "metadata": {},
     "output_type": "execute_result"
    }
   ],
   "source": [
    "retained"
   ]
  },
  {
   "cell_type": "code",
   "execution_count": 34,
   "id": "b51e2665",
   "metadata": {},
   "outputs": [
    {
     "data": {
      "text/plain": [
       "1030"
      ]
     },
     "execution_count": 34,
     "metadata": {},
     "output_type": "execute_result"
    }
   ],
   "source": [
    "suscribers"
   ]
  },
  {
   "cell_type": "markdown",
   "id": "b17e9942",
   "metadata": {},
   "source": [
    "## Customer Segementation\n",
    "\n",
    "###  Common ways to segment audiences\n",
    "In addition to high-level metrics, it's important to segment customers by who you're marketing to. Segmenting means breaking down metrics by specific characteristics. For instance, in addition to looking at conversion rates overall, you might also want to look at conversion rate by age group. It's possible that a campaign had a low conversion rate overall, but was super effective for users who were 55 years and up. Rather than calling the campaign a failure, your team has learned a new way to market to older individuals! That's great news! You could use these results to conduct a campaign where users 55 years and up receive a different marketing technique than everyone else."
   ]
  },
  {
   "cell_type": "code",
   "execution_count": 36,
   "id": "8a3fae46",
   "metadata": {},
   "outputs": [],
   "source": [
    "#Subset to include only House Ads\n",
    "house_ads=marketing[marketing['subscribing_channel']=='House Ads']"
   ]
  },
  {
   "cell_type": "code",
   "execution_count": 38,
   "id": "d61b04b9",
   "metadata": {},
   "outputs": [
    {
     "data": {
      "text/html": [
       "<div>\n",
       "<style scoped>\n",
       "    .dataframe tbody tr th:only-of-type {\n",
       "        vertical-align: middle;\n",
       "    }\n",
       "\n",
       "    .dataframe tbody tr th {\n",
       "        vertical-align: top;\n",
       "    }\n",
       "\n",
       "    .dataframe thead th {\n",
       "        text-align: right;\n",
       "    }\n",
       "</style>\n",
       "<table border=\"1\" class=\"dataframe\">\n",
       "  <thead>\n",
       "    <tr style=\"text-align: right;\">\n",
       "      <th></th>\n",
       "      <th>user_id</th>\n",
       "      <th>date_served</th>\n",
       "      <th>marketing_channel</th>\n",
       "      <th>variant</th>\n",
       "      <th>converted</th>\n",
       "      <th>language_displayed</th>\n",
       "      <th>language_preferred</th>\n",
       "      <th>age_group</th>\n",
       "      <th>date_subscribed</th>\n",
       "      <th>date_canceled</th>\n",
       "      <th>subscribing_channel</th>\n",
       "      <th>is_retained</th>\n",
       "      <th>is_house_ads</th>\n",
       "      <th>channel_code</th>\n",
       "      <th>day_served</th>\n",
       "      <th>is_correct_lang</th>\n",
       "    </tr>\n",
       "  </thead>\n",
       "  <tbody>\n",
       "    <tr>\n",
       "      <th>0</th>\n",
       "      <td>a100000029</td>\n",
       "      <td>2018-01-01</td>\n",
       "      <td>House Ads</td>\n",
       "      <td>personalization</td>\n",
       "      <td>True</td>\n",
       "      <td>English</td>\n",
       "      <td>English</td>\n",
       "      <td>0-18 years</td>\n",
       "      <td>2018-01-01</td>\n",
       "      <td>NaT</td>\n",
       "      <td>House Ads</td>\n",
       "      <td>True</td>\n",
       "      <td>True</td>\n",
       "      <td>1.0</td>\n",
       "      <td>0.0</td>\n",
       "      <td>Yes</td>\n",
       "    </tr>\n",
       "    <tr>\n",
       "      <th>1</th>\n",
       "      <td>a100000030</td>\n",
       "      <td>2018-01-01</td>\n",
       "      <td>House Ads</td>\n",
       "      <td>personalization</td>\n",
       "      <td>True</td>\n",
       "      <td>English</td>\n",
       "      <td>English</td>\n",
       "      <td>19-24 years</td>\n",
       "      <td>2018-01-01</td>\n",
       "      <td>NaT</td>\n",
       "      <td>House Ads</td>\n",
       "      <td>True</td>\n",
       "      <td>True</td>\n",
       "      <td>1.0</td>\n",
       "      <td>0.0</td>\n",
       "      <td>Yes</td>\n",
       "    </tr>\n",
       "    <tr>\n",
       "      <th>2</th>\n",
       "      <td>a100000031</td>\n",
       "      <td>2018-01-01</td>\n",
       "      <td>House Ads</td>\n",
       "      <td>personalization</td>\n",
       "      <td>True</td>\n",
       "      <td>English</td>\n",
       "      <td>English</td>\n",
       "      <td>24-30 years</td>\n",
       "      <td>2018-01-01</td>\n",
       "      <td>NaT</td>\n",
       "      <td>House Ads</td>\n",
       "      <td>True</td>\n",
       "      <td>True</td>\n",
       "      <td>1.0</td>\n",
       "      <td>0.0</td>\n",
       "      <td>Yes</td>\n",
       "    </tr>\n",
       "    <tr>\n",
       "      <th>3</th>\n",
       "      <td>a100000032</td>\n",
       "      <td>2018-01-01</td>\n",
       "      <td>House Ads</td>\n",
       "      <td>personalization</td>\n",
       "      <td>True</td>\n",
       "      <td>English</td>\n",
       "      <td>English</td>\n",
       "      <td>30-36 years</td>\n",
       "      <td>2018-01-01</td>\n",
       "      <td>NaT</td>\n",
       "      <td>House Ads</td>\n",
       "      <td>True</td>\n",
       "      <td>True</td>\n",
       "      <td>1.0</td>\n",
       "      <td>0.0</td>\n",
       "      <td>Yes</td>\n",
       "    </tr>\n",
       "    <tr>\n",
       "      <th>4</th>\n",
       "      <td>a100000033</td>\n",
       "      <td>2018-01-01</td>\n",
       "      <td>House Ads</td>\n",
       "      <td>personalization</td>\n",
       "      <td>True</td>\n",
       "      <td>English</td>\n",
       "      <td>English</td>\n",
       "      <td>36-45 years</td>\n",
       "      <td>2018-01-01</td>\n",
       "      <td>NaT</td>\n",
       "      <td>House Ads</td>\n",
       "      <td>True</td>\n",
       "      <td>True</td>\n",
       "      <td>1.0</td>\n",
       "      <td>0.0</td>\n",
       "      <td>Yes</td>\n",
       "    </tr>\n",
       "    <tr>\n",
       "      <th>...</th>\n",
       "      <td>...</td>\n",
       "      <td>...</td>\n",
       "      <td>...</td>\n",
       "      <td>...</td>\n",
       "      <td>...</td>\n",
       "      <td>...</td>\n",
       "      <td>...</td>\n",
       "      <td>...</td>\n",
       "      <td>...</td>\n",
       "      <td>...</td>\n",
       "      <td>...</td>\n",
       "      <td>...</td>\n",
       "      <td>...</td>\n",
       "      <td>...</td>\n",
       "      <td>...</td>\n",
       "      <td>...</td>\n",
       "    </tr>\n",
       "    <tr>\n",
       "      <th>349</th>\n",
       "      <td>a100000514</td>\n",
       "      <td>2018-01-26</td>\n",
       "      <td>House Ads</td>\n",
       "      <td>personalization</td>\n",
       "      <td>True</td>\n",
       "      <td>English</td>\n",
       "      <td>English</td>\n",
       "      <td>19-24 years</td>\n",
       "      <td>2018-01-26</td>\n",
       "      <td>NaT</td>\n",
       "      <td>House Ads</td>\n",
       "      <td>True</td>\n",
       "      <td>True</td>\n",
       "      <td>1.0</td>\n",
       "      <td>4.0</td>\n",
       "      <td>Yes</td>\n",
       "    </tr>\n",
       "    <tr>\n",
       "      <th>350</th>\n",
       "      <td>a100000515</td>\n",
       "      <td>2018-01-27</td>\n",
       "      <td>House Ads</td>\n",
       "      <td>personalization</td>\n",
       "      <td>True</td>\n",
       "      <td>English</td>\n",
       "      <td>English</td>\n",
       "      <td>24-30 years</td>\n",
       "      <td>2018-01-27</td>\n",
       "      <td>NaT</td>\n",
       "      <td>House Ads</td>\n",
       "      <td>True</td>\n",
       "      <td>True</td>\n",
       "      <td>1.0</td>\n",
       "      <td>5.0</td>\n",
       "      <td>Yes</td>\n",
       "    </tr>\n",
       "    <tr>\n",
       "      <th>351</th>\n",
       "      <td>a100000523</td>\n",
       "      <td>2018-01-28</td>\n",
       "      <td>House Ads</td>\n",
       "      <td>personalization</td>\n",
       "      <td>True</td>\n",
       "      <td>English</td>\n",
       "      <td>English</td>\n",
       "      <td>0-18 years</td>\n",
       "      <td>2018-01-28</td>\n",
       "      <td>NaT</td>\n",
       "      <td>House Ads</td>\n",
       "      <td>True</td>\n",
       "      <td>True</td>\n",
       "      <td>1.0</td>\n",
       "      <td>6.0</td>\n",
       "      <td>Yes</td>\n",
       "    </tr>\n",
       "    <tr>\n",
       "      <th>352</th>\n",
       "      <td>a100000524</td>\n",
       "      <td>2018-01-30</td>\n",
       "      <td>House Ads</td>\n",
       "      <td>personalization</td>\n",
       "      <td>True</td>\n",
       "      <td>English</td>\n",
       "      <td>Spanish</td>\n",
       "      <td>19-24 years</td>\n",
       "      <td>2018-01-30</td>\n",
       "      <td>NaT</td>\n",
       "      <td>House Ads</td>\n",
       "      <td>True</td>\n",
       "      <td>True</td>\n",
       "      <td>1.0</td>\n",
       "      <td>1.0</td>\n",
       "      <td>No</td>\n",
       "    </tr>\n",
       "    <tr>\n",
       "      <th>353</th>\n",
       "      <td>a100000525</td>\n",
       "      <td>2018-01-31</td>\n",
       "      <td>House Ads</td>\n",
       "      <td>personalization</td>\n",
       "      <td>True</td>\n",
       "      <td>English</td>\n",
       "      <td>English</td>\n",
       "      <td>24-30 years</td>\n",
       "      <td>2018-01-31</td>\n",
       "      <td>NaT</td>\n",
       "      <td>House Ads</td>\n",
       "      <td>True</td>\n",
       "      <td>True</td>\n",
       "      <td>1.0</td>\n",
       "      <td>2.0</td>\n",
       "      <td>Yes</td>\n",
       "    </tr>\n",
       "  </tbody>\n",
       "</table>\n",
       "<p>354 rows × 16 columns</p>\n",
       "</div>"
      ],
      "text/plain": [
       "        user_id date_served marketing_channel          variant  converted  \\\n",
       "0    a100000029  2018-01-01         House Ads  personalization       True   \n",
       "1    a100000030  2018-01-01         House Ads  personalization       True   \n",
       "2    a100000031  2018-01-01         House Ads  personalization       True   \n",
       "3    a100000032  2018-01-01         House Ads  personalization       True   \n",
       "4    a100000033  2018-01-01         House Ads  personalization       True   \n",
       "..          ...         ...               ...              ...        ...   \n",
       "349  a100000514  2018-01-26         House Ads  personalization       True   \n",
       "350  a100000515  2018-01-27         House Ads  personalization       True   \n",
       "351  a100000523  2018-01-28         House Ads  personalization       True   \n",
       "352  a100000524  2018-01-30         House Ads  personalization       True   \n",
       "353  a100000525  2018-01-31         House Ads  personalization       True   \n",
       "\n",
       "    language_displayed language_preferred    age_group date_subscribed  \\\n",
       "0              English            English   0-18 years      2018-01-01   \n",
       "1              English            English  19-24 years      2018-01-01   \n",
       "2              English            English  24-30 years      2018-01-01   \n",
       "3              English            English  30-36 years      2018-01-01   \n",
       "4              English            English  36-45 years      2018-01-01   \n",
       "..                 ...                ...          ...             ...   \n",
       "349            English            English  19-24 years      2018-01-26   \n",
       "350            English            English  24-30 years      2018-01-27   \n",
       "351            English            English   0-18 years      2018-01-28   \n",
       "352            English            Spanish  19-24 years      2018-01-30   \n",
       "353            English            English  24-30 years      2018-01-31   \n",
       "\n",
       "    date_canceled subscribing_channel  is_retained  is_house_ads  \\\n",
       "0             NaT           House Ads         True          True   \n",
       "1             NaT           House Ads         True          True   \n",
       "2             NaT           House Ads         True          True   \n",
       "3             NaT           House Ads         True          True   \n",
       "4             NaT           House Ads         True          True   \n",
       "..            ...                 ...          ...           ...   \n",
       "349           NaT           House Ads         True          True   \n",
       "350           NaT           House Ads         True          True   \n",
       "351           NaT           House Ads         True          True   \n",
       "352           NaT           House Ads         True          True   \n",
       "353           NaT           House Ads         True          True   \n",
       "\n",
       "     channel_code  day_served is_correct_lang  \n",
       "0             1.0         0.0             Yes  \n",
       "1             1.0         0.0             Yes  \n",
       "2             1.0         0.0             Yes  \n",
       "3             1.0         0.0             Yes  \n",
       "4             1.0         0.0             Yes  \n",
       "..            ...         ...             ...  \n",
       "349           1.0         4.0             Yes  \n",
       "350           1.0         5.0             Yes  \n",
       "351           1.0         6.0             Yes  \n",
       "352           1.0         1.0              No  \n",
       "353           1.0         2.0             Yes  \n",
       "\n",
       "[354 rows x 16 columns]"
      ]
     },
     "execution_count": 38,
     "metadata": {},
     "output_type": "execute_result"
    }
   ],
   "source": [
    "house_ads"
   ]
  },
  {
   "cell_type": "code",
   "execution_count": 37,
   "id": "79abaa08",
   "metadata": {},
   "outputs": [],
   "source": [
    "retained=house_ads[house_ads['is_retained']==True]['user_id'].nunique()"
   ]
  },
  {
   "cell_type": "code",
   "execution_count": 39,
   "id": "497979fe",
   "metadata": {},
   "outputs": [],
   "source": [
    "subscribers=house_ads[house_ads['converted']==True]['user_id'].nunique()"
   ]
  },
  {
   "cell_type": "code",
   "execution_count": 40,
   "id": "ed15650e",
   "metadata": {},
   "outputs": [
    {
     "name": "stdout",
     "output_type": "stream",
     "text": [
      "58.05 %\n"
     ]
    }
   ],
   "source": [
    "retention_rate=retained/subscribers\n",
    "print(round(retention_rate*100,2),'%')"
   ]
  },
  {
   "cell_type": "code",
   "execution_count": null,
   "id": "3b59c65f",
   "metadata": {},
   "outputs": [],
   "source": []
  }
 ],
 "metadata": {
  "kernelspec": {
   "display_name": "Python 3 (ipykernel)",
   "language": "python",
   "name": "python3"
  },
  "language_info": {
   "codemirror_mode": {
    "name": "ipython",
    "version": 3
   },
   "file_extension": ".py",
   "mimetype": "text/x-python",
   "name": "python",
   "nbconvert_exporter": "python",
   "pygments_lexer": "ipython3",
   "version": "3.9.12"
  }
 },
 "nbformat": 4,
 "nbformat_minor": 5
}
